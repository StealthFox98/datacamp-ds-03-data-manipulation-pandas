{
 "cells": [
  {
   "cell_type": "markdown",
   "id": "f9e13780-fcf2-4e66-8958-b47802dead91",
   "metadata": {
    "id": "f9e13780-fcf2-4e66-8958-b47802dead91"
   },
   "source": [
    "# Chapter 3. Data Manipulation with pandas"
   ]
  },
  {
   "cell_type": "markdown",
   "id": "2fc187a1-8b04-4ce2-9fe9-f8384c5cf2c9",
   "metadata": {
    "id": "2fc187a1-8b04-4ce2-9fe9-f8384c5cf2c9"
   },
   "source": [
    "# 3.1 DataFrames"
   ]
  },
  {
   "cell_type": "markdown",
   "id": "08f0f1d3-768e-424f-9b2b-97f3b0619ced",
   "metadata": {},
   "source": [
    "Pandas is designed to work with rectangular data, which is represented as a DataFrame.\n",
    "\n",
    "Every value within a column has the same data type, either text or numeric. Different columns can contain different data types.\n",
    "\n",
    "It is useful to explore and get a sense of the contents of a new data set.\n"
   ]
  },
  {
   "cell_type": "code",
   "execution_count": 1,
   "id": "7fc8f45c-7ead-4a08-aee8-3ec194ab86d8",
   "metadata": {},
   "outputs": [],
   "source": [
    "import pandas as pd"
   ]
  },
  {
   "cell_type": "markdown",
   "id": "53368d89-7c77-4d28-a09c-36ac55996baa",
   "metadata": {},
   "source": [
    "## Methods to explore a dataset"
   ]
  },
  {
   "cell_type": "markdown",
   "id": "38f9a587-b9d0-4009-9968-310f968e0259",
   "metadata": {},
   "source": [
    "### .head()\n",
    "* Returns the first few rows of the dataframe"
   ]
  },
  {
   "cell_type": "code",
   "execution_count": 2,
   "id": "016aeaea-a4cf-40fc-919c-7bca189f9f9d",
   "metadata": {},
   "outputs": [],
   "source": [
    "# df.head()"
   ]
  },
  {
   "cell_type": "markdown",
   "id": "bc2202ec-6c1e-4d5e-9ac2-d91a54b15903",
   "metadata": {},
   "source": [
    "### .info()\n",
    "* Displays the names of columns, the data types they contain, and whether they have any missing values"
   ]
  },
  {
   "cell_type": "code",
   "execution_count": 3,
   "id": "bf29863d-4bed-48d5-986c-d6d23691b4cf",
   "metadata": {},
   "outputs": [],
   "source": [
    "# df.info()"
   ]
  },
  {
   "cell_type": "markdown",
   "id": "7c717933-8f60-47fc-806a-b1fc4014ee06",
   "metadata": {},
   "source": [
    "### .describe()\n",
    "* Computes some summary statistics for numerical columns, like mean and median.\n",
    "* \"count\" is the number of non-missing values in each column.\n",
    "* describe is good for a quick overview of numeric variables"
   ]
  },
  {
   "cell_type": "code",
   "execution_count": 4,
   "id": "a1298a10-1c9e-4b62-aa28-3b9a2e894d07",
   "metadata": {},
   "outputs": [],
   "source": [
    "# df.describe()"
   ]
  },
  {
   "cell_type": "markdown",
   "id": "5ea5972a-be88-4978-82ae-bcdf0352e2ed",
   "metadata": {},
   "source": [
    "### .shape\n",
    "* Contains a tuple that holds the number of rows followed by the number of columns."
   ]
  },
  {
   "cell_type": "code",
   "execution_count": 5,
   "id": "70182a66-afac-4ea1-b9e9-f2ad31532fc0",
   "metadata": {},
   "outputs": [],
   "source": [
    "# df.shape"
   ]
  },
  {
   "cell_type": "markdown",
   "id": "2bf3e1e7-8818-467b-895f-5171982ba3cd",
   "metadata": {},
   "source": [
    "## Components of a dataset\n",
    "DataFrames consist of three different components, accessible using attributes."
   ]
  },
  {
   "cell_type": "markdown",
   "id": "aef1a63a-4c9e-439e-8bec-4eb6a016f027",
   "metadata": {},
   "source": [
    "### .values\n",
    "*  The values attribute, as you might expect, contains the data values in a 2-dimensional NumPy array."
   ]
  },
  {
   "cell_type": "code",
   "execution_count": 6,
   "id": "e0db1964-a0ef-461b-94eb-48b8a3381be9",
   "metadata": {},
   "outputs": [],
   "source": [
    "# df.values"
   ]
  },
  {
   "cell_type": "markdown",
   "id": "7a39fcc2-289b-4aca-869e-585eee506915",
   "metadata": {},
   "source": [
    "### .columns\n",
    "+ Contains column names."
   ]
  },
  {
   "cell_type": "code",
   "execution_count": 7,
   "id": "9b526f17-0f4d-4dda-9dd5-f6fe22e7d95a",
   "metadata": {},
   "outputs": [],
   "source": [
    "# df.columns"
   ]
  },
  {
   "cell_type": "markdown",
   "id": "85a71723-0a77-42ec-be93-253e2ca6b2e8",
   "metadata": {},
   "source": [
    "### .index\n",
    "* Contains row numbers or row names.\n",
    "* Important: row labels are stored in dot-index, not in dot-rows."
   ]
  },
  {
   "cell_type": "code",
   "execution_count": 8,
   "id": "e63f4b1b-f9e9-4258-a88a-b505a15acf43",
   "metadata": {},
   "outputs": [],
   "source": [
    "# df.index"
   ]
  },
  {
   "cell_type": "markdown",
   "id": "8d3c4237-872f-4ac4-9520-1ec645d4a72c",
   "metadata": {},
   "source": [
    "## Sorting and subsetting"
   ]
  },
  {
   "cell_type": "markdown",
   "id": "c34b30b7-87af-477a-b239-5660bf087502",
   "metadata": {},
   "source": [
    "### Sorting\n",
    "* By sorting, you can change the order of rows so that the most interesting data is at the top of the DataFrame\n",
    "* Setting the argument ascending=False will sort the data the other way round (descending order)"
   ]
  },
  {
   "cell_type": "code",
   "execution_count": 9,
   "id": "e7653c4c-37c0-42ee-94f8-164a95034925",
   "metadata": {},
   "outputs": [],
   "source": [
    "# df.sort_values(\"column_name\", ascending=Bool)"
   ]
  },
  {
   "cell_type": "markdown",
   "id": "feffc61d-9e96-43c9-bb43-dafe0b44bc75",
   "metadata": {},
   "source": [
    "#### Sorting by multiple variables\n",
    "* It uses lists to specify the column names and the \"ascending\" argument for each element of the list"
   ]
  },
  {
   "cell_type": "code",
   "execution_count": 10,
   "id": "e0651eef-95c7-4aa5-bbcd-b3a4197260cd",
   "metadata": {},
   "outputs": [],
   "source": [
    "# df.sort_values([\"column_name_1\", \"column_name_2\"], ascending=[True, False])"
   ]
  },
  {
   "cell_type": "markdown",
   "id": "4c3b329a-3064-466b-bfc0-91f32243fc68",
   "metadata": {},
   "source": [
    "### Subsetting\n",
    "* Zooms in one or more columns."
   ]
  },
  {
   "cell_type": "code",
   "execution_count": 11,
   "id": "d7cd24c9-8018-44ad-9912-1357520e324e",
   "metadata": {},
   "outputs": [],
   "source": [
    "# df[\"column_name\"]"
   ]
  },
  {
   "cell_type": "markdown",
   "id": "3fd2cf40-0f3c-4f4c-a3d8-aefbf3f2884e",
   "metadata": {},
   "source": [
    "#### Subsetting multiple columns\n",
    "* Creates a list of column names to subset and then uses that list to subset the DataFrame."
   ]
  },
  {
   "cell_type": "code",
   "execution_count": 12,
   "id": "e27cf410-ef15-4b6a-b54e-6fe5dbb38fe5",
   "metadata": {},
   "outputs": [],
   "source": [
    "# OPTION 1\n",
    "# cols_to_subject = [\"column_name_1\", \"column_name_2\"]\n",
    "# df[cols_to_subject]\n",
    "\n",
    "# OPTION 2\n",
    "# df[[\"column_name_1\", \"column_name_2\"]]"
   ]
  },
  {
   "cell_type": "markdown",
   "id": "724e8d35-ef3b-4ef0-8b23-821aee8e422f",
   "metadata": {},
   "source": [
    "#### Subsetting based on text data"
   ]
  },
  {
   "cell_type": "code",
   "execution_count": 13,
   "id": "d17af1c6-cdc3-4bb6-a567-451a93f730c3",
   "metadata": {},
   "outputs": [],
   "source": [
    "# df[df[\"column_name\"] == \"string_value\"]"
   ]
  },
  {
   "cell_type": "markdown",
   "id": "0850af71-1eb5-4088-8bc0-c4147a570391",
   "metadata": {},
   "source": [
    "#### Subsetting based on dates"
   ]
  },
  {
   "cell_type": "code",
   "execution_count": 14,
   "id": "a4fcf39f-355e-499f-9cf7-45e90f6f6ce2",
   "metadata": {},
   "outputs": [],
   "source": [
    "# df[df[\"column_name\"] == \"yyyy-mm-dd\"]"
   ]
  },
  {
   "cell_type": "markdown",
   "id": "80e704d4-5cfe-481b-a349-5b30a89418b3",
   "metadata": {},
   "source": [
    "#### Subsetting based on multiple conditions"
   ]
  },
  {
   "cell_type": "code",
   "execution_count": 15,
   "id": "f38d5385-5f73-432b-b376-58f706d9c2b9",
   "metadata": {},
   "outputs": [],
   "source": [
    "# OPTION 1\n",
    "# is_condition_1 = df[column_1] == value_1\n",
    "# is_condition_2 = df[column_2] == value_2\n",
    "# df[is_condition_1 & is_condition_2]\n",
    "\n",
    "# OPTION 2\n",
    "# df[ (df[column_1] == value_1) & (df[column_2] == value_2) ]"
   ]
  },
  {
   "cell_type": "markdown",
   "id": "3d9139b8-01e7-4d36-91f6-5e1a85b1293f",
   "metadata": {},
   "source": [
    "#### Subsetting using.isin() method"
   ]
  },
  {
   "cell_type": "code",
   "execution_count": 16,
   "id": "ca153e4a-823c-4827-ae57-5f8176dc3ad4",
   "metadata": {},
   "outputs": [],
   "source": [
    "# is_option1_or_option2 = df[\"column_name\"].isin([option1, option2])\n",
    "# df[is_option1_or_option2]"
   ]
  },
  {
   "cell_type": "markdown",
   "id": "3e64afc7-969b-41d0-9d0e-dab5ba6c0b35",
   "metadata": {},
   "source": [
    "### New Columns\n",
    "* You may have to add new columns derived from existing columns."
   ]
  },
  {
   "cell_type": "markdown",
   "id": "ed367323-e558-4c1b-b4b7-117aa9f30a3d",
   "metadata": {},
   "source": [
    "#### Adding a new column"
   ]
  },
  {
   "cell_type": "code",
   "execution_count": 17,
   "id": "62f284ad-7205-4c0d-8e99-023e8df761d0",
   "metadata": {},
   "outputs": [],
   "source": [
    "# df[\"new_column_name\"] = df[\"column_name\"] / 100"
   ]
  },
  {
   "cell_type": "markdown",
   "id": "9f54eebb-d3d0-49c7-a9a9-89cc2cb1f53c",
   "metadata": {},
   "source": [
    "#### Multiple manipulations"
   ]
  },
  {
   "cell_type": "code",
   "execution_count": 18,
   "id": "257ea282-c16a-468e-8250-8145c0eb53e4",
   "metadata": {},
   "outputs": [],
   "source": [
    "# Example from a dog database\n",
    "# skinny_dogs = dogs[dogs[\"bmi\"] < 100] # This is a subset from the dogs DataFrame\n",
    "# skinny_dogs_height = skinny_dogs.sort_values(\"height_cm\", ascending=False) # We sort the result in descending order of height to get the talles skinny dog at top\n",
    "# skinny_dogs_height[[\"name\", \"height_cm\", \"bmi\"]] # We keep the columns we are interested in"
   ]
  },
  {
   "cell_type": "markdown",
   "id": "292d7d11-51d0-47cb-a7d8-8dbfedfcc9a0",
   "metadata": {
    "id": "2fc187a1-8b04-4ce2-9fe9-f8384c5cf2c9"
   },
   "source": [
    "# 3.2 Aggregating data"
   ]
  },
  {
   "cell_type": "markdown",
   "id": "159ab605-d235-4b66-b210-71e6558c7aa9",
   "metadata": {},
   "source": [
    "## Summary statistics\n",
    "* Summary statistics, as follows from their name, are numbers that summarize and tell you about your dataset."
   ]
  },
  {
   "cell_type": "markdown",
   "id": "76e5710c-1cac-4ea3-9983-c927f47d6e44",
   "metadata": {},
   "source": [
    "### Summarizing numerical data"
   ]
  },
  {
   "cell_type": "code",
   "execution_count": 19,
   "id": "ba295222-cf88-411d-a397-42add2e6a031",
   "metadata": {},
   "outputs": [],
   "source": [
    "# df[\"column_name\"].mean()\n",
    "# df[\"column_name\"].median()\n",
    "# df[\"column_name\"].mode()\n",
    "# df[\"column_name\"].min()\n",
    "# df[\"column_name\"].max()\n",
    "# df[\"column_name\"].var()\n",
    "# df[\"column_name\"].std()\n",
    "# df[\"column_name\"].sum()\n",
    "# df[\"column_name\"].quantile()"
   ]
  },
  {
   "cell_type": "markdown",
   "id": "633a1ab4-8201-40d5-a38c-72ec89743fbf",
   "metadata": {},
   "source": [
    "### Summarizing dates"
   ]
  },
  {
   "cell_type": "code",
   "execution_count": 20,
   "id": "75da2740-bac0-4926-8a59-1d008e0d2f65",
   "metadata": {},
   "outputs": [],
   "source": [
    "# df[\"column_name\"].min() # oldest date\n",
    "# df[\"column_name\"].max() # earliest date"
   ]
  },
  {
   "cell_type": "markdown",
   "id": "538fc6d2-c50d-4880-9e97-775c0540629b",
   "metadata": {},
   "source": [
    "### .agg() method\n",
    "* Allows you to compute custom summary statistics. "
   ]
  },
  {
   "cell_type": "code",
   "execution_count": 21,
   "id": "46270450-644b-458d-83dd-e3b6b52b0ec6",
   "metadata": {},
   "outputs": [],
   "source": [
    "# def pct30(column): # function called pct30 that computes the thirtieth percentile of a DataFrame column. \n",
    "#     return column.quantile(0.3)\n",
    "\n",
    "# df[\"column_name\"].agg(pct30) # it gives us the thirtieth percentile of the column_name."
   ]
  },
  {
   "cell_type": "markdown",
   "id": "0f035454-80e2-412b-aa87-936d4499838b",
   "metadata": {},
   "source": [
    "### Summaries on multiple columns\n",
    "* agg can also be used on more than one column."
   ]
  },
  {
   "cell_type": "code",
   "execution_count": 22,
   "id": "b4924666-4151-45b5-8f2a-bd5e89dc89ee",
   "metadata": {},
   "outputs": [],
   "source": [
    "# df[[\"column_name_1\", \"column_name_2\"]].agg(pct30) # it gives us the thirtieth percentile of both columns."
   ]
  },
  {
   "cell_type": "markdown",
   "id": "7ce5e486-b70d-4ae6-b339-1dfcf55a4cb9",
   "metadata": {},
   "source": [
    "### Multiple summaries\n",
    "* agg also can be used to get multiple summary statistics at once."
   ]
  },
  {
   "cell_type": "code",
   "execution_count": 23,
   "id": "2e549f6a-097e-4dcd-8d26-f53b69f9d140",
   "metadata": {},
   "outputs": [],
   "source": [
    "# def pct40(column): # function called pct40 that computes the fortieth percentile of a DataFrame column. \n",
    "#     return column.quantile(0.4)\n",
    "\n",
    "# df[\"column_name\"].agg([pct30, pct40]) # it gives us the thirtieth and fortieth percentile of the column_name."
   ]
  },
  {
   "cell_type": "markdown",
   "id": "5778eada-76a4-4b1d-90b7-28f1961a8e56",
   "metadata": {},
   "source": [
    "### Cumulative statistics\n",
    "These all return an entire column of a DataFrame:\n",
    "* Cummulative sum\n",
    "* Cummulative maximum\n",
    "* Cummulative minimum\n",
    "* Cumulative product"
   ]
  },
  {
   "cell_type": "code",
   "execution_count": 24,
   "id": "855c251a-00e3-48b5-a05d-cfe0ace9fabe",
   "metadata": {},
   "outputs": [],
   "source": [
    "# df[\"column_name\"].cumsum()\n",
    "# df[\"column_name\"].cummax()\n",
    "# df[\"column_name\"].cummin()\n",
    "# df[\"column_name\"].cumprod()"
   ]
  },
  {
   "cell_type": "markdown",
   "id": "0fc99881-a08a-427b-9d83-61717467a8e4",
   "metadata": {},
   "source": [
    "### Dropping duplicate values"
   ]
  },
  {
   "cell_type": "markdown",
   "id": "8c9ff567-3f06-4d08-b986-6cf1bad5b378",
   "metadata": {},
   "source": [
    "#### Dropping duplicates from a single column"
   ]
  },
  {
   "cell_type": "code",
   "execution_count": 25,
   "id": "3cd8c42b-9487-414a-8b90-22759bb05452",
   "metadata": {},
   "outputs": [],
   "source": [
    "# df.drop_duplicates(subset=\"column_name\")"
   ]
  },
  {
   "cell_type": "markdown",
   "id": "6c63fa3f-ab21-4a25-9258-81e716b633f9",
   "metadata": {},
   "source": [
    "#### Dropping duplicates from multiple columns"
   ]
  },
  {
   "cell_type": "code",
   "execution_count": 26,
   "id": "c09afa9d-216f-4c31-97f8-ae737d610434",
   "metadata": {},
   "outputs": [],
   "source": [
    "# df.drop_duplicates(subset=[\"column_name_1\", \"column_name_2\"])"
   ]
  },
  {
   "cell_type": "markdown",
   "id": "ac84c8ee-ef1e-4bd4-ab6f-5a59e4ea324a",
   "metadata": {},
   "source": [
    "### Counting the unique values of a column"
   ]
  },
  {
   "cell_type": "code",
   "execution_count": 27,
   "id": "a7e5bcaa-7dc7-43bc-8a61-272b809b0e06",
   "metadata": {},
   "outputs": [],
   "source": [
    "# df.[\"column_name\"].value_counts()\n",
    "# df.[\"column_name\"].value_counts(sort=True) # sorts the values with the highest count on top"
   ]
  },
  {
   "cell_type": "markdown",
   "id": "5d0f1eea-0ea6-458b-ac0a-b611ded0f665",
   "metadata": {},
   "source": [
    "### Proportions of the unique values in a column"
   ]
  },
  {
   "cell_type": "code",
   "execution_count": 28,
   "id": "51ab93bb-3630-4d4e-96c1-d76c3a72b2b5",
   "metadata": {},
   "outputs": [],
   "source": [
    "# df.[\"column_name\"].value_counts(normalize=True)"
   ]
  },
  {
   "cell_type": "markdown",
   "id": "bbfd3327-4f83-42d7-ac70-a603de549ae5",
   "metadata": {},
   "source": [
    "### Grouped summaries"
   ]
  },
  {
   "cell_type": "markdown",
   "id": "03f0c6d6-2518-4f3f-b8a9-a91cd4f3ab95",
   "metadata": {},
   "source": [
    "#### groupby() for a variable"
   ]
  },
  {
   "cell_type": "code",
   "execution_count": 29,
   "id": "54e6d2eb-cd12-4f11-87e2-4fc85135cbce",
   "metadata": {},
   "outputs": [],
   "source": [
    "# df.groupby(\"column_1\")[\"column_2\"].mean()\n",
    "# Gives you the mean column_2 for each column_1 category"
   ]
  },
  {
   "cell_type": "markdown",
   "id": "caff782a-50c1-4617-8b72-1c652b093f18",
   "metadata": {},
   "source": [
    "#### groupby() for multiple variables"
   ]
  },
  {
   "cell_type": "code",
   "execution_count": 30,
   "id": "575ccf6a-9d1a-4b9b-87c5-789e6a6b2e55",
   "metadata": {},
   "outputs": [],
   "source": [
    "# df.groupby([\"column_1\", \"column_2\"])[\"column_3\"].mean()\n",
    "# Gives you the mean column_3 for each column_1 and column_2 categories"
   ]
  },
  {
   "cell_type": "markdown",
   "id": "24c05985-6799-41df-8278-9041d53f9652",
   "metadata": {},
   "source": [
    "#### groupby() for many groups, many summaries"
   ]
  },
  {
   "cell_type": "code",
   "execution_count": 31,
   "id": "2d623b89-1dc1-40ea-a2b0-b36ce55f99ab",
   "metadata": {},
   "outputs": [],
   "source": [
    "# df.groupby([\"column_1\", \"column_2\"])[[\"column_3\", \"column_4\"]].mean()\n",
    "# Gives you the mean column_3 and mean column_4\n",
    "# for each column_1 and column_2 categories"
   ]
  },
  {
   "cell_type": "markdown",
   "id": "e7058c6f-36a7-4dc1-8d76-817a104277e1",
   "metadata": {},
   "source": [
    "### Pivot tables"
   ]
  },
  {
   "cell_type": "markdown",
   "id": "a9afd3c4-a049-4084-94b8-e7ed7360909e",
   "metadata": {},
   "source": [
    "#### From groupby() to pivot_table()\n",
    "* By default, pivot table takes the mean value for each group"
   ]
  },
  {
   "cell_type": "code",
   "execution_count": 32,
   "id": "2348b8d3-6a5e-4479-9b00-d769d7b6a8ca",
   "metadata": {},
   "outputs": [],
   "source": [
    "# groupby() example\n",
    "# df.groupby(\"column_1\")[\"column_2\"].mean()\n",
    "\n",
    "# pivot_table() equivalence\n",
    "# df.pivot_table(values=\"column_2\", index=\"column_1\")"
   ]
  },
  {
   "cell_type": "markdown",
   "id": "920d7a1a-667f-4a7e-97d8-71992b4816fe",
   "metadata": {},
   "source": [
    "#### Different statistics using pivot_table()"
   ]
  },
  {
   "cell_type": "code",
   "execution_count": 33,
   "id": "0fd56fb3-3071-481d-af3c-a7a08c997532",
   "metadata": {},
   "outputs": [],
   "source": [
    "# df.pivot_table(values=\"column_2\", index=\"column_1\", aggfunc=np.median)\n",
    "# Returns the median of column_2 for column_1"
   ]
  },
  {
   "cell_type": "markdown",
   "id": "33f5baca-2579-4b43-89ea-273555ff3f18",
   "metadata": {},
   "source": [
    "#### Multiple statistics using pivot_table()"
   ]
  },
  {
   "cell_type": "code",
   "execution_count": 34,
   "id": "09efa24b-a73d-460f-ad53-7350e61c9bee",
   "metadata": {},
   "outputs": [],
   "source": [
    "# df.pivot_table(values=\"column_2\", index=\"column_1\", aggfunc=[np.mean, np.median])\n",
    "# Gives the mean and median of column_2 for column_1"
   ]
  },
  {
   "cell_type": "markdown",
   "id": "cfb1e927-a352-49e6-a923-032e5f284e84",
   "metadata": {},
   "source": [
    "#### Pivot on two variables"
   ]
  },
  {
   "cell_type": "code",
   "execution_count": 35,
   "id": "b3903d7b-4516-4244-b26e-6b3bb21a83ba",
   "metadata": {},
   "outputs": [],
   "source": [
    "# groupby() example\n",
    "# df.groupby([\"column_1\", \"column_2\"])[\"column_3\"].mean()\n",
    "\n",
    "# pivot_table() equivalence\n",
    "# df.pivot_table(values=\"column_3\", index=\"column_1\", columns=\"column_2\")\n",
    "\n",
    "# Gives you the mean column_3 for each column_1 and column_2 categories"
   ]
  },
  {
   "cell_type": "markdown",
   "id": "23bb4e76-9b18-44a4-97cb-1736c8ffefa6",
   "metadata": {},
   "source": [
    "#### Filling missing values in pivot tables"
   ]
  },
  {
   "cell_type": "code",
   "execution_count": 36,
   "id": "cda5b6ab-a690-4dd3-8ba7-00e23f19ced8",
   "metadata": {},
   "outputs": [],
   "source": [
    "# df.pivot_table(values=\"column_3\", index=\"column_1\", columns=\"column_2\", fill_value=0)"
   ]
  },
  {
   "cell_type": "markdown",
   "id": "1dd43034-c476-492b-aa56-1a2c9b76fd34",
   "metadata": {},
   "source": [
    "#### Summing with pivot tables\n",
    "* Parameter \"margins=True\": the last row and column of the pivot table contian the mean of all the values in the column or row.\n",
    "* Does not include the missing values that are filled in with zeros"
   ]
  },
  {
   "cell_type": "code",
   "execution_count": 37,
   "id": "fb435139-4816-4d11-bec3-ae91b473bba9",
   "metadata": {},
   "outputs": [],
   "source": [
    "# df.pivot_table(values=\"column_3\", index=\"column_1\", columns=\"column_2\",\n",
    "    # fill_value=0, margins=True)"
   ]
  },
  {
   "cell_type": "markdown",
   "id": "c5b0aae9-0ff5-49d2-b545-5c348ac921ef",
   "metadata": {
    "id": "2fc187a1-8b04-4ce2-9fe9-f8384c5cf2c9"
   },
   "source": [
    "# 3.3 Slicing and indexing data"
   ]
  },
  {
   "cell_type": "markdown",
   "id": "a9d8b14a-0d11-426e-839f-a26af2c00a4a",
   "metadata": {},
   "source": [
    "## Explicit indexes"
   ]
  },
  {
   "cell_type": "markdown",
   "id": "f6b81598",
   "metadata": {},
   "source": [
    "### .columns"
   ]
  },
  {
   "cell_type": "code",
   "execution_count": 38,
   "id": "29015899",
   "metadata": {},
   "outputs": [],
   "source": [
    "# df.columns # Contains an index object of column names"
   ]
  },
  {
   "cell_type": "markdown",
   "id": "696bde29",
   "metadata": {},
   "source": [
    "### .index"
   ]
  },
  {
   "cell_type": "code",
   "execution_count": 39,
   "id": "3d42bca2",
   "metadata": {},
   "outputs": [],
   "source": [
    "# df.index # Contains an index object of row numbers"
   ]
  },
  {
   "cell_type": "markdown",
   "id": "ddfe8c95",
   "metadata": {},
   "source": [
    "### Setting a column name as the index"
   ]
  },
  {
   "cell_type": "code",
   "execution_count": 40,
   "id": "db66c94b",
   "metadata": {},
   "outputs": [],
   "source": [
    "# df_ind = df.set_index(\"column_1\")"
   ]
  },
  {
   "cell_type": "markdown",
   "id": "a762ba99",
   "metadata": {},
   "source": [
    "### Removing an index: .reset_index()"
   ]
  },
  {
   "cell_type": "code",
   "execution_count": 41,
   "id": "929d3581",
   "metadata": {},
   "outputs": [],
   "source": [
    "# df_ind.reset_index(drop=True)"
   ]
  },
  {
   "cell_type": "markdown",
   "id": "67193b6f",
   "metadata": {},
   "source": [
    "### Multi-level indexes (hierarchical indexes): .sets_index()"
   ]
  },
  {
   "cell_type": "code",
   "execution_count": 42,
   "id": "511cca0d",
   "metadata": {},
   "outputs": [],
   "source": [
    "# df_ind = df.sets_index([\"index_1\", \"index_2\"])"
   ]
  },
  {
   "cell_type": "markdown",
   "id": "84eb3573",
   "metadata": {},
   "source": [
    "### Subset the outer level with a list: .loc[[\"value1_column1\", \"value2_column1\"]]"
   ]
  },
  {
   "cell_type": "code",
   "execution_count": 43,
   "id": "4572f6ea",
   "metadata": {},
   "outputs": [],
   "source": [
    "# df_ind = df.loc[[\"value1_column1\", \"value2_column1\"]]"
   ]
  },
  {
   "cell_type": "markdown",
   "id": "89f63bdc",
   "metadata": {},
   "source": [
    "### Subset inner levels with a list of tuples: .loc[[(tuple_1), (tuple_2)]]"
   ]
  },
  {
   "cell_type": "code",
   "execution_count": 44,
   "id": "464984ef",
   "metadata": {},
   "outputs": [],
   "source": [
    "# df_ind = df.loc[[(value1_column1, value1_column2), (value2_column1, value2_column2)]]"
   ]
  },
  {
   "cell_type": "markdown",
   "id": "71222f58",
   "metadata": {},
   "source": [
    "### Sorting by index values: sort_index()"
   ]
  },
  {
   "cell_type": "code",
   "execution_count": 45,
   "id": "9d1907db",
   "metadata": {},
   "outputs": [],
   "source": [
    "# df.sort_index()"
   ]
  },
  {
   "cell_type": "markdown",
   "id": "a2af7bc5",
   "metadata": {},
   "source": [
    "### Controlling sort_index"
   ]
  },
  {
   "cell_type": "code",
   "execution_count": 46,
   "id": "9d01c700",
   "metadata": {},
   "outputs": [],
   "source": [
    "# df.sort_index(level=[\"column_2\", \"column_1\"], ascending=[True, False])"
   ]
  },
  {
   "cell_type": "markdown",
   "id": "fd0d8350",
   "metadata": {},
   "source": [
    "## Slicing and subsetting with .loc and .iloc"
   ]
  },
  {
   "cell_type": "markdown",
   "id": "9e1465e5-ed15-4df0-a2b0-8f4eb1b7dc5d",
   "metadata": {},
   "source": [
    "### Sort index before slicing"
   ]
  },
  {
   "cell_type": "code",
   "execution_count": 47,
   "id": "c27cbdca-91df-4210-a9af-b3d7eef15edf",
   "metadata": {},
   "outputs": [],
   "source": [
    "# df_srt = df.set_index([\"index_1\", \"index_2\"]).sort_index()"
   ]
  },
  {
   "cell_type": "markdown",
   "id": "c22219f2-314a-4a6c-b41a-1f06460e4118",
   "metadata": {},
   "source": [
    "### Slicing the outer index level"
   ]
  },
  {
   "cell_type": "code",
   "execution_count": 48,
   "id": "e2302fe4-4f98-42b2-a42c-383b3460b4c4",
   "metadata": {},
   "outputs": [],
   "source": [
    "# df_srt.loc[\"value_1_index_1\":\"value_n_index_1\"]"
   ]
  },
  {
   "cell_type": "markdown",
   "id": "bc4e4e73-45ea-45a7-96f6-e0446e3c8b24",
   "metadata": {},
   "source": [
    "### Slicing the inner index level"
   ]
  },
  {
   "cell_type": "code",
   "execution_count": 49,
   "id": "921cd781-74ec-450f-ba4b-44d7bdd48314",
   "metadata": {},
   "outputs": [],
   "source": [
    "# df_srt.loc[(\"value_1_index_1\", \"value_1_index_2\"):(\"value_n_index_1\", \"value_n_index_2)]"
   ]
  },
  {
   "cell_type": "markdown",
   "id": "76a261dd-d05d-4892-9b45-67336917ed50",
   "metadata": {},
   "source": [
    "### Slicing columns"
   ]
  },
  {
   "cell_type": "code",
   "execution_count": 50,
   "id": "0a7df7a1-34d0-4ddd-ae57-7109effe6c81",
   "metadata": {},
   "outputs": [],
   "source": [
    "# df_srt.loc[:, \"column_1\":\"column_n\"]"
   ]
  },
  {
   "cell_type": "markdown",
   "id": "adc9fdda-7456-443c-9623-5ff61d6e28c0",
   "metadata": {},
   "source": [
    "### Slice twice"
   ]
  },
  {
   "cell_type": "code",
   "execution_count": 51,
   "id": "0049c2c0-de78-444b-bf11-9db39ddf82c6",
   "metadata": {},
   "outputs": [],
   "source": [
    "# df_srt.loc[(\"value_1_index_1\", \"value_1_index_2\"):(\"value_n_index_1\", \"value_n_index_2), \"column_1\":\"column_n\"]"
   ]
  },
  {
   "cell_type": "markdown",
   "id": "6362a589-548f-4087-ac78-49562799dbe8",
   "metadata": {},
   "source": [
    "### Slicing by dates"
   ]
  },
  {
   "cell_type": "code",
   "execution_count": 52,
   "id": "1e8399fa-3acd-4ffa-809b-dcd9260276ce",
   "metadata": {},
   "outputs": [],
   "source": [
    "# df.loc[\"yyyy-mm-dd\":\"yyyy-mm-dd\"]"
   ]
  },
  {
   "cell_type": "markdown",
   "id": "6091bfdc-a31b-4de7-a303-e0b06c94ceb3",
   "metadata": {},
   "source": [
    "### Slicing by partial dates"
   ]
  },
  {
   "cell_type": "code",
   "execution_count": 53,
   "id": "1c4b1aba-b249-4fbb-af82-a05fc29b4b09",
   "metadata": {},
   "outputs": [],
   "source": [
    "# df.loc[\"yyyy\":\"yyyy\"]"
   ]
  },
  {
   "cell_type": "markdown",
   "id": "69db84d9-95e2-43df-9279-c528ac11cdd6",
   "metadata": {},
   "source": [
    "### Subsetting by row/column number"
   ]
  },
  {
   "cell_type": "code",
   "execution_count": 54,
   "id": "c359e255-9a34-4a6b-aa61-260ff15455e4",
   "metadata": {},
   "outputs": [],
   "source": [
    "# df.iloc[2:5,1:4]"
   ]
  },
  {
   "cell_type": "markdown",
   "id": "74f2ac99",
   "metadata": {},
   "source": [
    "## Working with pivot tables"
   ]
  },
  {
   "cell_type": "code",
   "execution_count": 55,
   "id": "4c0fb956-2cab-49a3-92a7-bc714b0aff3f",
   "metadata": {},
   "outputs": [],
   "source": [
    "# Example dataframe\n",
    "# dogs_height_by_breed_vs_color = dog_pack.pivot_table(\"height_cm\", index=\"breed\", columns=\"color\")"
   ]
  },
  {
   "cell_type": "markdown",
   "id": "bc5f25df-e618-4046-a083-5ea201c18c1d",
   "metadata": {},
   "source": [
    "### .loc[] + slicing"
   ]
  },
  {
   "cell_type": "code",
   "execution_count": 56,
   "id": "97b1ad45-84d2-4fa8-b430-939fd22c4236",
   "metadata": {},
   "outputs": [],
   "source": [
    "# dogs_height_by_breed_vs_color.loc[\"Chow Chow\":\"Poodle\"]"
   ]
  },
  {
   "cell_type": "markdown",
   "id": "46d24ec1-77bf-4c5b-b651-895baf2fb645",
   "metadata": {},
   "source": [
    "### Axis argument (\"index\" is default, meaning \"calculate the statistics across rows\")"
   ]
  },
  {
   "cell_type": "code",
   "execution_count": 57,
   "id": "a57feb04-904a-4966-97b1-53f98f847661",
   "metadata": {},
   "outputs": [],
   "source": [
    "# dogs_height_by_breed_vs_color.mean(axis=\"index\")"
   ]
  },
  {
   "cell_type": "code",
   "execution_count": 58,
   "id": "525998bd-c9cb-4da7-ba7b-ed186af3630d",
   "metadata": {},
   "outputs": [],
   "source": [
    "# dogs_height_by_breed_vs_color.mean(axis=\"columns\")"
   ]
  },
  {
   "cell_type": "markdown",
   "id": "4fa82907-a8d9-4265-aa44-45adc1f4d7d4",
   "metadata": {},
   "source": [
    "### Accessing the components of a date (year, month, day) through df[\"column\"].dt.component"
   ]
  },
  {
   "cell_type": "code",
   "execution_count": 59,
   "id": "f3239fc0-0a4c-44a3-a0c7-df7b36c0bcdf",
   "metadata": {},
   "outputs": [],
   "source": [
    "# df[\"column\"].dt.year\n",
    "# df[\"column\"].dt.month\n",
    "# df[\"column\"].dt.day"
   ]
  },
  {
   "cell_type": "markdown",
   "id": "a36dc312-3834-48c4-a9aa-e71b72232ef4",
   "metadata": {
    "id": "2fc187a1-8b04-4ce2-9fe9-f8384c5cf2c9"
   },
   "source": [
    "# 3.4 Creating and visualizing DataFrames"
   ]
  },
  {
   "cell_type": "markdown",
   "id": "72724371-f519-4ce7-9dff-116e88195047",
   "metadata": {},
   "source": [
    "## Visualizing DataFrames"
   ]
  },
  {
   "cell_type": "code",
   "execution_count": 60,
   "id": "7765761c-0e40-4636-ad9c-5f8f3979e991",
   "metadata": {},
   "outputs": [],
   "source": [
    "import matplotlib.pyplot as plt"
   ]
  },
  {
   "cell_type": "markdown",
   "id": "1615cbb1-d669-4322-8070-5d69d0814b1e",
   "metadata": {},
   "source": [
    "### Histograms"
   ]
  },
  {
   "cell_type": "markdown",
   "id": "3bd8fb60-8b44-4197-a9b7-9e2e0195e5a8",
   "metadata": {},
   "source": [
    "Show the distirbution of a numeric variable."
   ]
  },
  {
   "cell_type": "code",
   "execution_count": 61,
   "id": "9fb8d936-3849-4f95-89d3-79b08d8b9d4c",
   "metadata": {},
   "outputs": [],
   "source": [
    "# df[\"column_name\"].hist(bins=value)\n",
    "# plt.show()"
   ]
  },
  {
   "cell_type": "code",
   "execution_count": 62,
   "id": "d6d1fd1a-3349-4cd2-aa04-a24cb5e6ba4d",
   "metadata": {},
   "outputs": [],
   "source": [
    "# dog_pack[\"height_cm\"].hist()\n",
    "# plt.show()"
   ]
  },
  {
   "cell_type": "markdown",
   "id": "75b2f550-6d9a-402e-9c20-9c04f5f3253a",
   "metadata": {},
   "source": [
    "### Bar plots"
   ]
  },
  {
   "cell_type": "markdown",
   "id": "5d99e1ea-374c-4b2a-a2fa-e10bc7adbc39",
   "metadata": {},
   "source": [
    "Reveal relationships between a categorcial and a numerical variable."
   ]
  },
  {
   "cell_type": "code",
   "execution_count": 63,
   "id": "6bddee94-5b75-49c6-b47b-38056dd3bb40",
   "metadata": {},
   "outputs": [],
   "source": [
    "# df.groupby(\"column_categorical_values\")[\"column_numeric_values\"].mean()\n",
    "# df.plot(kind=\"bar\", title=\"plot title\")\n",
    "# plt.show()"
   ]
  },
  {
   "cell_type": "code",
   "execution_count": 64,
   "id": "2637d050-d8b7-486a-95c8-e322670c4c29",
   "metadata": {},
   "outputs": [],
   "source": [
    "# avg_weight_by_breed = dog_pack.groupby(\"breed\")[\"weight_kg\"].mean()\n",
    "# print(avg_weight_by_breed)"
   ]
  },
  {
   "cell_type": "code",
   "execution_count": 65,
   "id": "7e7c74d7-1b46-4d15-8984-786dc7d0ee3b",
   "metadata": {},
   "outputs": [],
   "source": [
    "# avg_weight_by_breed.plot(kind=\"bar\", title=\"Mean weight by dog breed\")\n",
    "# plt.show()"
   ]
  },
  {
   "cell_type": "markdown",
   "id": "192bde73-ab98-434c-8ce7-29a8fd883012",
   "metadata": {},
   "source": [
    "### Line plots"
   ]
  },
  {
   "cell_type": "markdown",
   "id": "acc49233-4ee0-4fb0-855d-dc39282add46",
   "metadata": {},
   "source": [
    "Great for visualizing changes in numeric variables over time."
   ]
  },
  {
   "cell_type": "code",
   "execution_count": 66,
   "id": "f0924fff-a627-4811-8bb3-300fe4dd5849",
   "metadata": {},
   "outputs": [],
   "source": [
    "# df.head()\n",
    "# df.plot(x=\"date\", \n",
    "#            y=\"column_numeric_values\", \n",
    "#            kind=\"line\")\n",
    "# plt.show()"
   ]
  },
  {
   "cell_type": "code",
   "execution_count": 67,
   "id": "f985d95e-56ad-4cdc-8ed2-be3b3f65b4e5",
   "metadata": {},
   "outputs": [],
   "source": [
    "# sully.head()\n",
    "# sully.plot(x=\"date\", \n",
    "#            y=\"weight_kg\", \n",
    "#            kind=\"line\")\n",
    "# plt.show()"
   ]
  },
  {
   "cell_type": "markdown",
   "id": "6fd055c2-6b43-4128-9afd-e85f6a9982d7",
   "metadata": {},
   "source": [
    "### Rotating axis labels"
   ]
  },
  {
   "cell_type": "code",
   "execution_count": 68,
   "id": "f593e732-509e-4b4c-9257-644d3ee0e1cb",
   "metadata": {},
   "outputs": [],
   "source": [
    "# df.head()\n",
    "# df.plot(x=\"date\", \n",
    "#            y=\"column_numeric_values\", \n",
    "#            kind=\"line\",\n",
    "#            rot=45)\n",
    "# plt.show()"
   ]
  },
  {
   "cell_type": "code",
   "execution_count": 69,
   "id": "35af7fd3-acc4-4ed6-a460-8dfb54856028",
   "metadata": {},
   "outputs": [],
   "source": [
    "# sully.plot(x=\"date\", \n",
    "#            y=\"weight_kg\", \n",
    "#            kind=\"line\",\n",
    "#            rot=45)\n",
    "# plt.show()"
   ]
  },
  {
   "cell_type": "markdown",
   "id": "cd3fb045-8c42-41cb-8291-f06509c7749d",
   "metadata": {},
   "source": [
    "### Scatter plots"
   ]
  },
  {
   "cell_type": "markdown",
   "id": "97c8ef81-8e56-4cca-bdf7-fbdfd3aa21a0",
   "metadata": {},
   "source": [
    "Great for visualizing relationships between two numeric variables."
   ]
  },
  {
   "cell_type": "code",
   "execution_count": 70,
   "id": "d98d6241-90a5-46f5-9581-6b6964c5919b",
   "metadata": {},
   "outputs": [],
   "source": [
    "# df.plot(x=\"column_numeric_values_1\", y=\"column_numeric_values_2\", kind=\"scatter\")\n",
    "# plt.show()"
   ]
  },
  {
   "cell_type": "code",
   "execution_count": 71,
   "id": "bc8756a3-45b1-4105-9026-b44162efee3f",
   "metadata": {},
   "outputs": [],
   "source": [
    "# dog_pack.plot(x=\"height_kg\", y=\"weight_kg\", kind=\"scatter\")\n",
    "# plt.show()"
   ]
  },
  {
   "cell_type": "markdown",
   "id": "af7dd71f-66ca-4dc2-9c12-a87480469350",
   "metadata": {},
   "source": [
    "### Layering plots"
   ]
  },
  {
   "cell_type": "code",
   "execution_count": 72,
   "id": "24acc20c-1ad6-4fa5-b7a3-4a097585b930",
   "metadata": {},
   "outputs": [],
   "source": [
    "# df[df[\"column_categorical_values\"] == \"value_1\"][\"height_cm\"].hist(alpha=0.7) # alpha value makes a plot translucid\n",
    "# df[df[\"column_categorical_values\"] == \"value_2\"][\"height_cm\"].hist(alpha=0.7)\n",
    "# plt.legend([\"value_1\", \"value_2\"])\n",
    "# plt.show()"
   ]
  },
  {
   "cell_type": "code",
   "execution_count": 73,
   "id": "2f12c6dc-ace0-4e31-bb91-107c86f5a8af",
   "metadata": {},
   "outputs": [],
   "source": [
    "# dog_pack[dog_pack[\"sex\"] == \"F\"][\"height_cm\"].hist(alpha=0.7)\n",
    "# dog_pack[dog_pack[\"sex\"] == \"M\"][\"height_cm\"].hist(alpha=0.7)\n",
    "# plt.legend([\"F\", \"M\"])\n",
    "# plt.show()"
   ]
  },
  {
   "cell_type": "markdown",
   "id": "339b6788-33e5-40ee-8e80-1ec3e21e28ee",
   "metadata": {},
   "source": [
    "## Missing values"
   ]
  },
  {
   "cell_type": "markdown",
   "id": "d856ed37-c486-446f-ba69-7bf6182cd335",
   "metadata": {},
   "source": [
    "* There is always a chance that there are some pieces missing in a dataset.\n",
    "* In pandas, missing values are indicated by NaN, which means \"not a number\""
   ]
  },
  {
   "cell_type": "markdown",
   "id": "8ea83489-e528-4f68-99e5-ae97ec7ac413",
   "metadata": {},
   "source": [
    "### Detecting missing values: df.isna()"
   ]
  },
  {
   "cell_type": "code",
   "execution_count": 74,
   "id": "eabb126f-3ade-4626-8af2-3d23f7895882",
   "metadata": {},
   "outputs": [],
   "source": [
    "# We will receive a Boolean value for every single value indicating whether the value is missing or not.\n",
    "# df.isna()"
   ]
  },
  {
   "cell_type": "markdown",
   "id": "51fe1f15-79c2-4762-ae53-5f696d9937fa",
   "metadata": {},
   "source": [
    "### Detecting any missing values: df.isna().any()"
   ]
  },
  {
   "cell_type": "code",
   "execution_count": 75,
   "id": "6a577612-287a-4b32-a9d7-147c730fae8b",
   "metadata": {},
   "outputs": [],
   "source": [
    "# We get one Boolean value for each variable. It will tel us if there are any missing values per column\n",
    "# df.isna().any()"
   ]
  },
  {
   "cell_type": "markdown",
   "id": "e9ecb330-dda8-47e7-8f36-5948e3240a2a",
   "metadata": {},
   "source": [
    "### Counting missing values: df.isna().sum()"
   ]
  },
  {
   "cell_type": "code",
   "execution_count": 76,
   "id": "d6ae4fd0-f9f0-4cd5-bb99-37acf159c525",
   "metadata": {},
   "outputs": [],
   "source": [
    "# Counting the number of Trues for columns with missing values\n",
    "# df.isna().sum()"
   ]
  },
  {
   "cell_type": "markdown",
   "id": "54e64e1b-09ca-4a76-84cb-57faf443c155",
   "metadata": {},
   "source": [
    "### Plotting missing values"
   ]
  },
  {
   "cell_type": "code",
   "execution_count": 77,
   "id": "9459400c-454d-4dc4-9ef6-edc17870d5af",
   "metadata": {},
   "outputs": [],
   "source": [
    "# import matplotlib.pyplot as plt\n",
    "# df.isna().sum().plot(kind=\"bar\")\n",
    "# plt.show()"
   ]
  },
  {
   "cell_type": "markdown",
   "id": "d42fa1cb-c6aa-4107-8e11-627e47d0a0fb",
   "metadata": {},
   "source": [
    "### Removing missing values: df.dropna()"
   ]
  },
  {
   "cell_type": "code",
   "execution_count": 78,
   "id": "00386219-6bd3-4f66-b6a0-1ad67b1d9775",
   "metadata": {},
   "outputs": [],
   "source": [
    "# Not ideal if you have a lot of missing data, meaning you would be losing a lot of observations\n",
    "# df.dropna()"
   ]
  },
  {
   "cell_type": "markdown",
   "id": "e139d0b3-4f73-440d-a9cf-38e790117bc1",
   "metadata": {},
   "source": [
    "### Replacing missing values with another value: df.fillna()"
   ]
  },
  {
   "cell_type": "code",
   "execution_count": 79,
   "id": "644e5fab-bd29-48e4-a48a-9f0ce8294835",
   "metadata": {},
   "outputs": [],
   "source": [
    "# This method takes in a value and all NaNs will be replaced with this value\n",
    "# df.fillna(value)"
   ]
  },
  {
   "cell_type": "markdown",
   "id": "60eb93a0-17c7-4f33-97cc-0f2cdd1806aa",
   "metadata": {},
   "source": [
    "## Creating DataFrames"
   ]
  },
  {
   "cell_type": "markdown",
   "id": "45ebc8cb-193b-445a-8641-2da8037f3473",
   "metadata": {},
   "source": [
    "### Dictionaries"
   ]
  },
  {
   "cell_type": "markdown",
   "id": "76879fa2-1a2a-4b70-a913-8a94b438daa9",
   "metadata": {},
   "source": [
    "* A way of storing data in Python\n",
    "* It holds a set of key-pair values\n",
    "* Created using curly braces {}"
   ]
  },
  {
   "cell_type": "code",
   "execution_count": 80,
   "id": "8b8fbe48-d596-4375-b37c-87c4f01ffef8",
   "metadata": {},
   "outputs": [],
   "source": [
    "# my_dict = {\n",
    "#     \"key1\": value1,\n",
    "#     \"key2\": value2,\n",
    "#     \"key3\": value3\n",
    "# }"
   ]
  },
  {
   "cell_type": "code",
   "execution_count": 81,
   "id": "11cb16f5-91fe-4c2c-9f63-e2c5f13d0ed7",
   "metadata": {},
   "outputs": [],
   "source": [
    "# Access a value of a dictionary via their keys in square brackets\n",
    "# my_dict[\"key1\"]"
   ]
  },
  {
   "cell_type": "code",
   "execution_count": 82,
   "id": "ea772d7e-65dc-492d-afa5-d29d729490de",
   "metadata": {},
   "outputs": [],
   "source": [
    "my_dict = {\n",
    "    \"title\": \"Charlotte's Web\",\n",
    "    \"author\": \"E.B. White\",\n",
    "    \"published\": 1952\n",
    "}"
   ]
  },
  {
   "cell_type": "code",
   "execution_count": 83,
   "id": "5650db8e-7ac7-45fe-b60c-5de3fb09e853",
   "metadata": {},
   "outputs": [
    {
     "data": {
      "text/plain": [
       "\"Charlotte's Web\""
      ]
     },
     "execution_count": 83,
     "metadata": {},
     "output_type": "execute_result"
    }
   ],
   "source": [
    "my_dict[\"title\"]"
   ]
  },
  {
   "cell_type": "markdown",
   "id": "2e3a47a1-7426-4753-8e17-1396ca49064e",
   "metadata": {},
   "source": [
    "### Creating DataFrames from a List of dictionaries - by row"
   ]
  },
  {
   "cell_type": "markdown",
   "id": "eb1aac31-59ac-4347-8fd9-b84f57b3a13c",
   "metadata": {},
   "source": [
    "It is constructed row by row"
   ]
  },
  {
   "cell_type": "code",
   "execution_count": 84,
   "id": "5f52aecb-cc19-4d3b-9f6e-7b377d8b7441",
   "metadata": {},
   "outputs": [],
   "source": [
    "list_of_dicts = [\n",
    "    {\"name\":\"Ginger\", \"breed\":\"Dachshund\", \"height_cm\":22, \"weight_kg\":10, \"date_of_birth\":\"2019-03-14\"},\n",
    "    {\"name\":\"Scout\", \"breed\":\"Dalmatian\", \"height_cm\":59, \"weight_kg\":25, \"date_of_birth\":\"2019-05-09\"}\n",
    "]"
   ]
  },
  {
   "cell_type": "code",
   "execution_count": 85,
   "id": "aab72f26-270f-4c5f-8614-39fd58a0aa0b",
   "metadata": {},
   "outputs": [
    {
     "name": "stdout",
     "output_type": "stream",
     "text": [
      "     name      breed  height_cm  weight_kg date_of_birth\n",
      "0  Ginger  Dachshund         22         10    2019-03-14\n",
      "1   Scout  Dalmatian         59         25    2019-05-09\n"
     ]
    }
   ],
   "source": [
    "new_dogs = pd.DataFrame(list_of_dicts)\n",
    "print(new_dogs)"
   ]
  },
  {
   "cell_type": "markdown",
   "id": "58c3421a-51a6-45af-9e45-f2bdee2d72de",
   "metadata": {},
   "source": [
    "### Creating DataFrames from a Dictionary of lists - by column"
   ]
  },
  {
   "cell_type": "markdown",
   "id": "41007d4b-c1b5-41fc-b304-0ff74b28b33f",
   "metadata": {},
   "source": [
    "It is constructed column by column"
   ]
  },
  {
   "cell_type": "code",
   "execution_count": 86,
   "id": "8a9a302e-b7a1-49c3-83b8-9381bcdf9b1c",
   "metadata": {},
   "outputs": [],
   "source": [
    "dict_of_lists = {\n",
    "    \"name\": [\"Ginger\", \"Scout\"],\n",
    "    \"breed\": [\"Dachshund\", \"Dalmatian\"],\n",
    "    \"height_cm\": [22, 59],\n",
    "    \"weight_kg\": [10, 25],\n",
    "    \"date_of_birth\": [\"2019-03-14\", \"2019-05-09\"]\n",
    "}"
   ]
  },
  {
   "cell_type": "code",
   "execution_count": 87,
   "id": "c76c18f0-f9cc-42cb-acb0-8ecd9a9683ec",
   "metadata": {},
   "outputs": [
    {
     "name": "stdout",
     "output_type": "stream",
     "text": [
      "     name      breed  height_cm  weight_kg date_of_birth\n",
      "0  Ginger  Dachshund         22         10    2019-03-14\n",
      "1   Scout  Dalmatian         59         25    2019-05-09\n"
     ]
    }
   ],
   "source": [
    "new_dogs = pd.DataFrame(list_of_dicts)\n",
    "print(new_dogs)"
   ]
  },
  {
   "cell_type": "markdown",
   "id": "663cd1c5-7345-41ed-bdbf-f65d9c4eb3ea",
   "metadata": {},
   "source": [
    "## Reading and writing CSVs"
   ]
  },
  {
   "cell_type": "markdown",
   "id": "74c6af65-db8a-45e0-beb5-609204c10eaa",
   "metadata": {},
   "source": [
    "* CSV (comma-separated values) is a common data storage file type\n",
    "* Designed to store tabular data\n",
    "* Text file where each row of data has its own line, and each value is separated by a comma"
   ]
  },
  {
   "cell_type": "code",
   "execution_count": 91,
   "id": "ddb34705-5612-49e9-9d6e-891059a22465",
   "metadata": {},
   "outputs": [],
   "source": [
    "# FROM CSV TO DATAFRAME\n",
    "# import pandas as pd\n",
    "# new_dogs = pd.read_csv(\"new_dogs.csv\")\n",
    "# print(new_dogs)"
   ]
  },
  {
   "cell_type": "code",
   "execution_count": 92,
   "id": "edbcae25-3f68-4ee5-9776-dbca861e9b29",
   "metadata": {},
   "outputs": [],
   "source": [
    "# FILE NOW CAN BE EDITED AS A DATAFRIME\n",
    "# new_dogs[\"bmi\"] = new_dogs[\"weight_kg\"] / (new_dogs[\"height_cm\"]) ** 2\n",
    "# print(new_dogs)"
   ]
  },
  {
   "cell_type": "code",
   "execution_count": 93,
   "id": "0900ba7f-742b-4cfb-9900-6983ecd73142",
   "metadata": {},
   "outputs": [],
   "source": [
    "# DATAFRAME TO CSV\n",
    "# new_dogs.to_csv(\"new_dogs_with_bmi\".csv\")"
   ]
  }
 ],
 "metadata": {
  "colab": {
   "provenance": []
  },
  "kernelspec": {
   "display_name": "Python 3 (ipykernel)",
   "language": "python",
   "name": "python3"
  },
  "language_info": {
   "codemirror_mode": {
    "name": "ipython",
    "version": 3
   },
   "file_extension": ".py",
   "mimetype": "text/x-python",
   "name": "python",
   "nbconvert_exporter": "python",
   "pygments_lexer": "ipython3",
   "version": "3.12.3"
  }
 },
 "nbformat": 4,
 "nbformat_minor": 5
}
